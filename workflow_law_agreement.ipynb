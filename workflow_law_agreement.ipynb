{
  "cells": [
    {
      "cell_type": "markdown",
      "metadata": {
        "colab_type": "text",
        "id": "view-in-github"
      },
      "source": [
        "<a href=\"https://colab.research.google.com/github/anoushkagarg003/contract_analysis_workflow/blob/main/workflow_law_agreement.ipynb\" target=\"_parent\"><img src=\"https://colab.research.google.com/assets/colab-badge.svg\" alt=\"Open In Colab\"/></a>"
      ]
    },
    {
      "cell_type": "code",
      "execution_count": 28,
      "metadata": {
        "colab": {
          "base_uri": "https://localhost:8080/"
        },
        "id": "dsgmT3rQVwLz",
        "outputId": "be9d7002-ed52-4c2a-912e-279c17fd802c"
      },
      "outputs": [
        {
          "name": "stdout",
          "output_type": "stream",
          "text": [
            "Note: you may need to restart the kernel to use updated packages.\n"
          ]
        }
      ],
      "source": [
        "pip install -q google-generativeai langgraph pydantic"
      ]
    },
    {
      "cell_type": "code",
      "execution_count": 29,
      "metadata": {
        "id": "iOe5QH7JVyBM"
      },
      "outputs": [],
      "source": [
        "import google.generativeai as genai\n",
        "from typing import List, Optional\n",
        "from pydantic import BaseModel\n",
        "from langgraph.graph import StateGraph, END"
      ]
    },
    {
      "cell_type": "code",
      "execution_count": 30,
      "metadata": {
        "id": "OwKZxSN1V2Zp"
      },
      "outputs": [],
      "source": [
        "from langchain_community.chat_models import ChatOllama\n",
        "model = ChatOllama(model=\"llama3\") "
      ]
    },
    {
      "cell_type": "code",
      "execution_count": 31,
      "metadata": {
        "id": "I8ExpwrJV6mP"
      },
      "outputs": [],
      "source": [
        "class Section(BaseModel):\n",
        "    content: str\n",
        "    tone: Optional[str] = None\n",
        "    bias: Optional[str] = None\n",
        "    suggestion: Optional[str] = None\n",
        "\n",
        "class AuditorState(BaseModel):\n",
        "    document: str\n",
        "    sections: Optional[List[Section]] = []"
      ]
    },
    {
      "cell_type": "code",
      "execution_count": 32,
      "metadata": {
        "id": "RmwgUG3vV9t2"
      },
      "outputs": [],
      "source": [
        "# Tool 1: Split Document\n",
        "def split_document(state: AuditorState) -> AuditorState:\n",
        "    prompts = f\"\"\"\n",
        "    Break this legal/business document into logical sections.\n",
        "    Respond with a JSON list of strings, where each string is a meaningful section.\n",
        "\n",
        "    Document:\n",
        "    {state.document}\n",
        "    \"\"\"\n",
        "    response = model.invoke(prompts).content  # ✅ Use `.content` for ChatOllama\n",
        "    try:\n",
        "        import json\n",
        "        content = response.strip().strip(\"```json\").strip(\"```\")\n",
        "        sections = json.loads(content)\n",
        "    except:\n",
        "        sections = [state.document]  # fallback: no splitting\n",
        "    return AuditorState(document=state.document, sections=[Section(content=s) for s in sections])\n",
        "\n",
        "\n",
        "# Tool 2: Analyze Tone\n",
        "def analyze_tone(state: AuditorState) -> AuditorState:\n",
        "    updated_sections = []\n",
        "    for section in state.sections:\n",
        "        prompt = f\"Analyze the tone of this section:\\n\\n{section.content}\\n\\nRespond with 1-2 words (e.g., 'formal', 'aggressive').\"\n",
        "        tone = model.invoke(prompt).content.strip()\n",
        "        section.tone = tone\n",
        "        updated_sections.append(section)\n",
        "    state.sections = updated_sections\n",
        "    return state\n",
        "\n",
        "\n",
        "# Tool 3: Detect Bias\n",
        "def check_bias(state: AuditorState) -> AuditorState:\n",
        "    updated_sections = []\n",
        "    for section in state.sections:\n",
        "        prompt = f\"Does the following section contain any bias? Answer clearly like 'Yes, it's biased towards X' or 'No bias detected'.\\n\\n{section.content}\"\n",
        "        bias = model.invoke(prompt).content.strip()\n",
        "        section.bias = bias\n",
        "        updated_sections.append(section)\n",
        "    state.sections = updated_sections\n",
        "    return state\n",
        "\n",
        "\n",
        "# Tool 4: Suggest Rewrite\n",
        "def suggest_rewrite(state: AuditorState) -> AuditorState:\n",
        "    updated_sections = []\n",
        "    for section in state.sections:\n",
        "        if section.tone and \"aggressive\" in section.tone.lower() or \"biased\" in (section.bias or \"\").lower():\n",
        "            prompt = f\"Rewrite this section to make it more neutral and professional:\\n\\n{section.content}\"\n",
        "            suggestion = model.invoke(prompt).content.strip()\n",
        "            section.suggestion = suggestion\n",
        "        updated_sections.append(section)\n",
        "    state.sections = updated_sections\n",
        "    return state\n"
      ]
    },
    {
      "cell_type": "code",
      "execution_count": 33,
      "metadata": {
        "id": "vbSdQw85WKLU"
      },
      "outputs": [],
      "source": [
        "workflow = StateGraph(AuditorState)\n",
        "workflow.add_node(\"split\", split_document)\n",
        "workflow.add_node(\"tone\", analyze_tone)\n",
        "workflow.add_node(\"bias\", check_bias)\n",
        "workflow.add_node(\"rewrite\", suggest_rewrite)\n",
        "\n",
        "workflow.set_entry_point(\"split\")\n",
        "workflow.add_edge(\"split\", \"tone\")\n",
        "workflow.add_edge(\"tone\", \"bias\")\n",
        "workflow.add_edge(\"bias\", \"rewrite\")\n",
        "workflow.add_edge(\"rewrite\", END)\n",
        "\n",
        "graph = workflow.compile()"
      ]
    },
    {
      "cell_type": "code",
      "execution_count": 34,
      "metadata": {
        "id": "d5JOd8ozWNpd"
      },
      "outputs": [],
      "source": [
        "doc = \"\"\"\n",
        "This Agreement is irrevocable and shall not be modified under any circumstance by the Buyer.\n",
        "The Seller reserves the right to terminate at any time without cause.\n",
        "\"\"\"\n",
        "\n",
        "input_state = AuditorState(document=doc)\n",
        "final_state = graph.invoke(input_state)"
      ]
    },
    {
      "cell_type": "code",
      "execution_count": 35,
      "metadata": {
        "colab": {
          "base_uri": "https://localhost:8080/"
        },
        "id": "udhCpwZiWTBh",
        "outputId": "47743150-0b93-4a48-ba9f-d48c365ae3cd"
      },
      "outputs": [
        {
          "name": "stdout",
          "output_type": "stream",
          "text": [
            "\n",
            "--- Section 1 ---\n",
            "Original: \n",
            "This Agreement is irrevocable and shall not be modified under any circumstance by the Buyer.\n",
            "The Seller reserves the right to terminate at any time without cause.\n",
            "\n",
            "Tone: Formal.\n",
            "Bias: Yes, this section contains bias in favor of the Seller. The language suggests that the Seller has more power and control over the agreement than the Buyer, as it explicitly states that the Buyer cannot modify the agreement under any circumstances, while the Seller can unilaterally terminate the agreement at will. This imbalance favors the Seller's interests over those of the Buyer.\n"
          ]
        }
      ],
      "source": [
        "for i, section in enumerate(final_state['sections']):\n",
        "    print(f\"\\n--- Section {i+1} ---\")\n",
        "    print(f\"Original: {section.content}\")\n",
        "    print(f\"Tone: {section.tone}\")\n",
        "    print(f\"Bias: {section.bias}\")\n",
        "    if section.suggestion:\n",
        "        print(f\"Suggested Rewrite: {section.suggestion}\")"
      ]
    }
  ],
  "metadata": {
    "colab": {
      "authorship_tag": "ABX9TyOt8N8bgDY+kFrPX+L1kq5c",
      "include_colab_link": true,
      "provenance": []
    },
    "kernelspec": {
      "display_name": ".venv",
      "language": "python",
      "name": "python3"
    },
    "language_info": {
      "codemirror_mode": {
        "name": "ipython",
        "version": 3
      },
      "file_extension": ".py",
      "mimetype": "text/x-python",
      "name": "python",
      "nbconvert_exporter": "python",
      "pygments_lexer": "ipython3",
      "version": "3.11.5"
    }
  },
  "nbformat": 4,
  "nbformat_minor": 0
}
